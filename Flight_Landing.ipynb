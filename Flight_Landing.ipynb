{
  "nbformat": 4,
  "nbformat_minor": 0,
  "metadata": {
    "colab": {
      "name": "Flight Landing",
      "provenance": [],
      "authorship_tag": "ABX9TyOUKWw6q4XaHr1fLTmoWW5Z",
      "include_colab_link": true
    },
    "kernelspec": {
      "name": "python3",
      "display_name": "Python 3"
    }
  },
  "cells": [
    {
      "cell_type": "markdown",
      "metadata": {
        "id": "view-in-github",
        "colab_type": "text"
      },
      "source": [
        "<a href=\"https://colab.research.google.com/github/Sreevani-Sharma/letsupgrade-python/blob/master/Flight_Landing.ipynb\" target=\"_parent\"><img src=\"https://colab.research.google.com/assets/colab-badge.svg\" alt=\"Open In Colab\"/></a>"
      ]
    },
    {
      "cell_type": "code",
      "metadata": {
        "id": "woe_2fdD5fDH",
        "colab_type": "code",
        "colab": {
          "base_uri": "https://localhost:8080/",
          "height": 34
        },
        "outputId": "3726dfff-2e30-4497-e871-051af501c2e3"
      },
      "source": [
        "altitude = 5000\n",
        " \n",
        "\n",
        "if altitude<=1000:\n",
        "  print(\"land the plane\")\n",
        "    \n",
        "elif altitude>1000 and altitude<=5000:\n",
        "  print(\"come down to 1000ft\")\n",
        "\n",
        "else:\n",
        "  print(\"go around and try later\")\n"
      ],
      "execution_count": 8,
      "outputs": [
        {
          "output_type": "stream",
          "text": [
            "come down to 1000ft\n"
          ],
          "name": "stdout"
        }
      ]
    }
  ]
}