{
  "nbformat": 4,
  "nbformat_minor": 0,
  "metadata": {
    "colab": {
      "name": "Untitled0.ipynb",
      "provenance": [],
      "collapsed_sections": [],
      "authorship_tag": "ABX9TyN0f7YmnI/dSEbtSoD1c3qy",
      "include_colab_link": true
    },
    "kernelspec": {
      "name": "python3",
      "display_name": "Python 3"
    }
  },
  "cells": [
    {
      "cell_type": "markdown",
      "metadata": {
        "id": "view-in-github",
        "colab_type": "text"
      },
      "source": [
        "<a href=\"https://colab.research.google.com/github/Sreevani-Sharma/letsupgrade-python/blob/master/tea.ipynb\" target=\"_parent\"><img src=\"https://colab.research.google.com/assets/colab-badge.svg\" alt=\"Open In Colab\"/></a>"
      ]
    },
    {
      "cell_type": "code",
      "metadata": {
        "id": "K7W0Fpe9_PAC",
        "colab_type": "code",
        "colab": {
          "base_uri": "https://localhost:8080/",
          "height": 129
        },
        "outputId": "bb2343a7-4a3b-468c-ba97-83181a87a2f0"
      },
      "source": [
        "X = 1000\n",
        "\n",
        "If altitude < 1000:\n",
        "print(\"land the plane\")\n",
        "    \n",
        "elif altitude>1000 and altitude<5000:\n",
        "Print(\"come down to 1000ft\")\n",
        "\n",
        "else:\n",
        "print(\"go around and try later\")\n",
        "\n",
        "\n",
        " \n",
        "\n",
        "\n",
        "#prime numbers using for loop\n",
        "\n",
        " num in range(i=1,j=201)    \n",
        "\n",
        " if i>1 :\n",
        "    for i = (%i==1):\n",
        "    Print(\"i is a prime number\")\n",
        "    i = (i+1,j)\n",
        "\n",
        "    else :\n",
        "      print(\"not a prime number\")\n",
        "\n",
        "\n",
        "\n",
        "\n",
        "\n",
        "\n",
        "\n",
        "\n",
        "\n",
        "\n",
        "\n",
        "\n",
        "\n",
        "\n"
      ],
      "execution_count": 2,
      "outputs": [
        {
          "output_type": "error",
          "ename": "SyntaxError",
          "evalue": "ignored",
          "traceback": [
            "\u001b[0;36m  File \u001b[0;32m\"<ipython-input-2-3667d4fade7c>\"\u001b[0;36m, line \u001b[0;32m3\u001b[0m\n\u001b[0;31m    If altitude<1000:\u001b[0m\n\u001b[0m              ^\u001b[0m\n\u001b[0;31mSyntaxError\u001b[0m\u001b[0;31m:\u001b[0m invalid syntax\n"
          ]
        }
      ]
    },
    {
      "cell_type": "code",
      "metadata": {
        "id": "L4faSrLgnOJx",
        "colab_type": "code",
        "colab": {}
      },
      "source": [
        ""
      ],
      "execution_count": null,
      "outputs": []
    }
  ]
}